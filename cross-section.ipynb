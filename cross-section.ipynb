{
 "cells": [
  {
   "cell_type": "code",
   "execution_count": null,
   "metadata": {},
   "outputs": [],
   "source": [
    "import numpy as np\n",
    "from netCDF4 import Dataset"
   ]
  },
  {
   "cell_type": "code",
   "execution_count": null,
   "metadata": {},
   "outputs": [],
   "source": [
    "def rot2grid(rlon,rlat,rlon_min,rlat_min,dlon,dlat):\n",
    "    x=(rlon-rlon_min)/dlon\n",
    "    y=(rlat-rlat_min)/dlat\n",
    "    return x,y\n",
    "\n",
    "def interpol(x,y,var):\n",
    "    x0=int(x)\n",
    "    x1=x0+1\n",
    "    y0=int(y)\n",
    "    y1=y0+1\n",
    "\n",
    "    w0=(x-x0)*(y-y0)\n",
    "    w1=(x1-x)*(y-y0)\n",
    "    w2=(x1-x)*(y1-y)\n",
    "    w3=(x-x0)*(y1-y)\n",
    "    vel = w0*var[y1,x1]+w1*var[y1,x0]+w2*var[y0,x0]+w3*var[y0,x1]\n",
    "    return vel"
   ]
  },
  {
   "cell_type": "code",
   "execution_count": null,
   "metadata": {},
   "outputs": [],
   "source": [
    "f=Dataset('data/z.nc','r')\n",
    "\n",
    "rglon = f.variables['rlon'][:]\n",
    "rglat = f.variables['rlat'][:]\n",
    "gdlon = round(rglon[1]-rglon[0],4)\n",
    "gdlat = round(rglat[1]-rglat[0],4)\n",
    "\n",
    "f.close()\n",
    "\n",
    "f=Dataset('data/l.nc','r')\n",
    "\n",
    "surfpres = f.variables['PS'][:]\n",
    "surftemp = f.variables['T_2M'][:]\n",
    "groundtemp = f.variables['T_S'][:]\n",
    "temp = f.variables['T'][:]\n",
    "pres = f.variables['P'][:]\n",
    "qv = f.variables['QV'][:]\n",
    "qv_s = f.variables['QV_S'][:]\n",
    "td_2m = f.variables['TD_2M'][:]\n",
    "tke = f.variables['TKE'][:]\n",
    "\n",
    "f.close()\n",
    "\n",
    "f=Dataset('data/c.nc','r')\n",
    "\n",
    "hhl = f.variables['HHL'][0,:,0,0]\n",
    "\n",
    "f.close()\n",
    "\n",
    "\n"
   ]
  },
  {
   "cell_type": "code",
   "execution_count": null,
   "metadata": {},
   "outputs": [],
   "source": [
    "# init zlev and add one extra level for the 2m values\n",
    "zlevs=np.zeros(temp.shape[1]+1)\n",
    "zlevs[temp.shape[1]]=2.\n",
    "\n",
    "# fill zlev with values\n",
    "for i in range(len(hhl)-1):\n",
    "    zlevs[i]=hhl[i+1]+(hhl[i]-hhl[i+1])/2 - hhl[len(hhl)-1]\n",
    "\n",
    "\n",
    "    \n",
    "# def theta   \n",
    "theta=np.zeros((temp.shape[0],temp.shape[1]+1,temp.shape[2],temp.shape[3]))\n",
    "\n",
    "# calc theta \n",
    "for i in range(len(zlevs)-1):\n",
    "    theta[:,i,:,:]=(temp[:,i,:,:]*(1+0.61*qv[:,i,:,:]))*(pres[:,len(zlevs)-2,:,:]/pres[:,i,:,:])**(287./1005.)\n",
    "\n",
    "\n",
    "# calc theta 2m\n",
    "e_2m=6.1078*np.exp(17.1*(td_2m-273.15)/(235+(td_2m-273.15)))\n",
    "qv_2m=0.66*e_2m/surfpres\n",
    "theta[:,len(zlevs)-1,:,:]=surftemp*(1+0.61*qv_2m)\n",
    "    \n"
   ]
  },
  {
   "cell_type": "code",
   "execution_count": null,
   "metadata": {},
   "outputs": [],
   "source": [
    "# load trajectory data\n",
    "mean_traj = np.loadtxt('data/mean_traj.txt')\n",
    "stda_traj = np.loadtxt('data/stda_traj.txt')"
   ]
  }
 ],
 "metadata": {
  "kernelspec": {
   "display_name": "Python 3",
   "language": "python",
   "name": "python3"
  },
  "language_info": {
   "codemirror_mode": {
    "name": "ipython",
    "version": 3
   },
   "file_extension": ".py",
   "mimetype": "text/x-python",
   "name": "python",
   "nbconvert_exporter": "python",
   "pygments_lexer": "ipython3",
   "version": "3.7.3"
  }
 },
 "nbformat": 4,
 "nbformat_minor": 2
}
